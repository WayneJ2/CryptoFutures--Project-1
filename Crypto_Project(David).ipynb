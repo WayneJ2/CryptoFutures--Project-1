{
 "cells": [
  {
   "cell_type": "code",
   "execution_count": 4,
   "id": "5dad162c",
   "metadata": {},
   "outputs": [
    {
     "ename": "NameError",
     "evalue": "name 'null' is not defined",
     "output_type": "error",
     "traceback": [
      "\u001b[1;31m---------------------------------------------------------------------------\u001b[0m",
      "\u001b[1;31mNameError\u001b[0m                                 Traceback (most recent call last)",
      "\u001b[1;32m<ipython-input-4-de408abcd849>\u001b[0m in \u001b[0;36m<module>\u001b[1;34m\u001b[0m\n\u001b[0;32m      3\u001b[0m   {\n\u001b[0;32m      4\u001b[0m    \u001b[1;34m\"cell_type\"\u001b[0m\u001b[1;33m:\u001b[0m \u001b[1;34m\"code\"\u001b[0m\u001b[1;33m,\u001b[0m\u001b[1;33m\u001b[0m\u001b[1;33m\u001b[0m\u001b[0m\n\u001b[1;32m----> 5\u001b[1;33m    \u001b[1;34m\"execution_count\"\u001b[0m\u001b[1;33m:\u001b[0m \u001b[0mnull\u001b[0m\u001b[1;33m,\u001b[0m\u001b[1;33m\u001b[0m\u001b[1;33m\u001b[0m\u001b[0m\n\u001b[0m\u001b[0;32m      6\u001b[0m    \u001b[1;34m\"id\"\u001b[0m\u001b[1;33m:\u001b[0m \u001b[1;34m\"eb27920e\"\u001b[0m\u001b[1;33m,\u001b[0m\u001b[1;33m\u001b[0m\u001b[1;33m\u001b[0m\u001b[0m\n\u001b[0;32m      7\u001b[0m    \u001b[1;34m\"metadata\"\u001b[0m\u001b[1;33m:\u001b[0m \u001b[1;33m{\u001b[0m\u001b[1;33m}\u001b[0m\u001b[1;33m,\u001b[0m\u001b[1;33m\u001b[0m\u001b[1;33m\u001b[0m\u001b[0m\n",
      "\u001b[1;31mNameError\u001b[0m: name 'null' is not defined"
     ]
    }
   ],
   "source": [
    "{\n",
    " \"cells\": [\n",
    "  {\n",
    "   \"cell_type\": \"code\",\n",
    "   \"execution_count\": null,\n",
    "   \"id\": \"eb27920e\",\n",
    "   \"metadata\": {},\n",
    "   \"outputs\": [],\n",
    "   \"source\": [\n",
    "    \"# Dependencies and Setup\\n\",\n",
    "    \"import matplotlib.pyplot as plt\\n\",\n",
    "    \"import pandas as pd\\n\",\n",
    "    \"import scipy.stats as st\\n\",\n",
    "    \"import numpy as np\\n\",\n",
    "    \"\\n\",\n",
    "    \"# Study data files\\n\",\n",
    "    \"bitcoin_path = \\\"Resources/coin_Bitcoin.csv\\\"\\n\",\n",
    "    \"ethereum_path = \\\"Resources/coin_Ethereum.csv\\\"\\n\",\n",
    "    \"cardano_path = \\\"Resources/coin_Cardano.csv\\\"\\n\",\n",
    "    \"dogecoin_path = \\\"Resources/coin_Dogecoin.csv\\\"\\n\",\n",
    "    \"polkadot_path = \\\"Resources/coin_Polkadot.csv\\\"\\n\",\n",
    "    \"\\n\",\n",
    "    \"# Read the crypto history data and form dataframes\\n\",\n",
    "    \"bitcoinData = pd.read_csv(bitcoin_path)\\n\",\n",
    "    \"ethereumData = pd.read_csv(ethereum_path)\\n\",\n",
    "    \"cardanoData = pd.read_csv(cardano_path)\\n\",\n",
    "    \"dogecoinData = pd.read_csv(dogecoin_path)\\n\",\n",
    "    \"polkadotData = pd.read_csv(polkadot_path)\\n\",\n",
    "    \"\\n\",\n",
    "    \"bitData_df = pd.DataFrame(bitcoinData)\\n\",\n",
    "    \"ethData_df = pd.DataFrame(ethereumData)\\n\",\n",
    "    \"anaData_df = pd.DataFrame(cardanoData)\\n\",\n",
    "    \"dogeData_df = pd.DataFrame(dogecoinData)\\n\",\n",
    "    \"dotData_df = pd.DataFrame(polkadotData)\\n\",\n",
    "    \"\\n\"\n",
    "   ]\n",
    "  },\n",
    "  {\n",
    "   \"cell_type\": \"code\",\n",
    "   \"execution_count\": null,\n",
    "   \"id\": \"2b2b54c3\",\n",
    "   \"metadata\": {},\n",
    "   \"outputs\": [],\n",
    "   \"source\": []\n",
    "  }\n",
    " ],\n",
    " \"metadata\": {\n",
    "  \"kernelspec\": {\n",
    "   \"display_name\": \"Python 3\",\n",
    "   \"language\": \"python\",\n",
    "   \"name\": \"python3\"\n",
    "  },\n",
    "  \"language_info\": {\n",
    "   \"codemirror_mode\": {\n",
    "    \"name\": \"ipython\",\n",
    "    \"version\": 3\n",
    "   },\n",
    "   \"file_extension\": \".py\",\n",
    "   \"mimetype\": \"text/x-python\",\n",
    "   \"name\": \"python\",\n",
    "   \"nbconvert_exporter\": \"python\",\n",
    "   \"pygments_lexer\": \"ipython3\",\n",
    "   \"version\": \"3.8.8\"\n",
    "  }\n",
    " },\n",
    " \"nbformat\": 4,\n",
    " \"nbformat_minor\": 5\n",
    "}"
   ]
  },
  {
   "cell_type": "code",
   "execution_count": null,
   "id": "ed872748",
   "metadata": {},
   "outputs": [],
   "source": []
  }
 ],
 "metadata": {
  "kernelspec": {
   "display_name": "Python 3",
   "language": "python",
   "name": "python3"
  },
  "language_info": {
   "codemirror_mode": {
    "name": "ipython",
    "version": 3
   },
   "file_extension": ".py",
   "mimetype": "text/x-python",
   "name": "python",
   "nbconvert_exporter": "python",
   "pygments_lexer": "ipython3",
   "version": "3.8.8"
  }
 },
 "nbformat": 4,
 "nbformat_minor": 5
}
