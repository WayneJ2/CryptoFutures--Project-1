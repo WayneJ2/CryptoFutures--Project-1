{
 "cells": [
  {
   "cell_type": "code",
   "execution_count": 1,
   "id": "b1ba2ea3",
   "metadata": {},
   "outputs": [],
   "source": [
    "# Dependencies and Setup\n",
    "import matplotlib.pyplot as plt\n",
    "import pandas as pd\n",
    "import scipy.stats as st\n",
    "import numpy as np\n",
    "\n",
    "# Study data files\n",
    "bitcoin_path = \"Resources/coin_Bitcoin.csv\"\n",
    "ethereum_path = \"Resources/coin_Ethereum.csv\"\n",
    "cardano_path = \"Resources/coin_Cardano.csv\"\n",
    "dogecoin_path = \"Resources/coin_Dogecoin.csv\"\n",
    "polkadot_path = \"Resources/coin_Polkadot.csv\"\n",
    "\n",
    "# Read the crypto history data and form dataframes\n",
    "bitcoinData = pd.read_csv(bitcoin_path)\n",
    "ethereumData = pd.read_csv(ethereum_path)\n",
    "cardanoData = pd.read_csv(cardano_path)\n",
    "dogecoinData = pd.read_csv(dogecoin_path)\n",
    "polkadotData = pd.read_csv(polkadot_path)\n",
    "\n",
    "bitData_df = pd.DataFrame(bitcoinData)\n",
    "ethData_df = pd.DataFrame(ethereumData)\n",
    "anaData_df = pd.DataFrame(cardanoData)\n",
    "dogeData_df = pd.DataFrame(dogecoinData)\n",
    "dotData_df = pd.DataFrame(polkadotData)\n"
   ]
  },
  {
   "cell_type": "code",
   "execution_count": 2,
   "id": "adcccd5b",
   "metadata": {},
   "outputs": [],
   "source": [
    "# cleaning data\n",
    "# take only the date needed for correlation\n",
    "# which is the Close and the date\n",
    "\n",
    "bitData_df = bitData_df[[\"Date\",\"Name\",\"Close\"]]\n",
    "ethData_df = ethData_df[[\"Date\",\"Name\",\"Close\"]]\n",
    "cardData_df = anaData_df[[\"Date\",\"Name\",\"Close\"]]\n",
    "dogeData_df = dogeData_df[[\"Date\",\"Name\",\"Close\"]]\n",
    "polkaData_df = dotData_df[[\"Date\",\"Name\",\"Close\"]]"
   ]
  },
  {
   "cell_type": "code",
   "execution_count": null,
   "id": "c2f9f52d",
   "metadata": {},
   "outputs": [],
   "source": []
  }
 ],
 "metadata": {
  "kernelspec": {
   "display_name": "Python 3",
   "language": "python",
   "name": "python3"
  },
  "language_info": {
   "codemirror_mode": {
    "name": "ipython",
    "version": 3
   },
   "file_extension": ".py",
   "mimetype": "text/x-python",
   "name": "python",
   "nbconvert_exporter": "python",
   "pygments_lexer": "ipython3",
   "version": "3.8.8"
  }
 },
 "nbformat": 4,
 "nbformat_minor": 5
}
